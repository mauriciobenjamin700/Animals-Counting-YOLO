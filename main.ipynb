{
 "cells": [
  {
   "cell_type": "code",
   "execution_count": 1,
   "metadata": {},
   "outputs": [],
   "source": [
    "from ultralytics import YOLO\n",
    "from test import dir_images\n",
    "import matplotlib.pyplot as plt"
   ]
  },
  {
   "cell_type": "code",
   "execution_count": null,
   "metadata": {},
   "outputs": [],
   "source": [
    "model = YOLO('yolov9c.pt')"
   ]
  },
  {
   "cell_type": "code",
   "execution_count": null,
   "metadata": {},
   "outputs": [],
   "source": [
    "valid_animals = [\"cow\",\"ox\",\"sheep\",\"horse\",\"goat\",\"duck\",\"dog\",\"cat\",\"bird\", \"swan\", \"rat\", \"pig\", \"pigeon\", \"fox\"]"
   ]
  },
  {
   "cell_type": "code",
   "execution_count": null,
   "metadata": {},
   "outputs": [],
   "source": [
    "files = dir_images(\"/animals/animals/cow\")[0:10]\n"
   ]
  },
  {
   "cell_type": "code",
   "execution_count": null,
   "metadata": {},
   "outputs": [],
   "source": [
    "len(files)"
   ]
  },
  {
   "cell_type": "code",
   "execution_count": null,
   "metadata": {},
   "outputs": [],
   "source": [
    "import matplotlib.pyplot as plt\n",
    "import matplotlib.image as mpimg\n",
    "\n",
    "# Lista de nomes de arquivos de imagem\n",
    "\n",
    "\n",
    "# Loop sobre cada imagem\n",
    "for nome in files:\n",
    "    # Lê a imagem\n",
    "    imagem = mpimg.imread(nome)\n",
    "    \n",
    "    # Mostra a imagem\n",
    "    plt.imshow(imagem)\n",
    "    \n",
    "    # Adiciona um título com o nome do arquivo\n",
    "    plt.title(nome)\n",
    "    \n",
    "    # Remove os eixos\n",
    "    plt.axis('off')\n",
    "    \n",
    "    # Exibe a imagem\n",
    "    plt.show()\n"
   ]
  },
  {
   "cell_type": "code",
   "execution_count": null,
   "metadata": {},
   "outputs": [],
   "source": [
    "results = model(files)"
   ]
  },
  {
   "cell_type": "code",
   "execution_count": null,
   "metadata": {},
   "outputs": [],
   "source": [
    "for result in results:\n",
    "    dic = {}\n",
    "    dic[\"boxes\"] = result.boxes  # Boxes object for bounding box outputs\n",
    "    dic[\"masks\"] = result.masks  # Masks object for segmentation masks outputs\n",
    "    dic[\"keypoints\"] = result.keypoints  # Keypoints object for pose outputs\n",
    "    dic[\"probs\"] = result.probs  # Probs object for classification outputs\n",
    "    result.show()  # display to screen\n",
    "    result.save(filename='result.jpg')  # save to disk"
   ]
  }
 ],
 "metadata": {
  "kernelspec": {
   "display_name": ".venv",
   "language": "python",
   "name": "python3"
  },
  "language_info": {
   "codemirror_mode": {
    "name": "ipython",
    "version": 3
   },
   "file_extension": ".py",
   "mimetype": "text/x-python",
   "name": "python",
   "nbconvert_exporter": "python",
   "pygments_lexer": "ipython3",
   "version": "3.12.2"
  }
 },
 "nbformat": 4,
 "nbformat_minor": 2
}
